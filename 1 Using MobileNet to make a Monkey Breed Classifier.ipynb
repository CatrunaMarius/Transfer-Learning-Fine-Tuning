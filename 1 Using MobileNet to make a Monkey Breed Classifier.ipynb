{
 "nbformat": 4,
 "nbformat_minor": 2,
 "metadata": {
  "language_info": {
   "name": "python",
   "codemirror_mode": {
    "name": "ipython",
    "version": 3
   },
   "version": "3.7.4-final"
  },
  "orig_nbformat": 2,
  "file_extension": ".py",
  "mimetype": "text/x-python",
  "name": "python",
  "npconvert_exporter": "python",
  "pygments_lexer": "ipython3",
  "version": 3,
  "kernelspec": {
   "name": "python37464bit43b0aca25f3a478a89236e706d769e39",
   "display_name": "Python 3.7.4 64-bit"
  }
 },
 "cells": [
  {
   "cell_type": "markdown",
   "metadata": {},
   "source": [
    "# Folosim modelu MobileNet pentru clasificarea maimutelor\n",
    "## incarca modelul MobileNet\n"
   ]
  },
  {
   "cell_type": "markdown",
   "metadata": {},
   "source": [
    "Înghețați toate straturile, cu excepția primilor 4, deoarece vom pregăti doar primele 4"
   ]
  },
  {
   "cell_type": "code",
   "execution_count": 2,
   "metadata": {},
   "outputs": [
    {
     "name": "stdout",
     "output_type": "stream",
     "text": "0 InputLayer False\n1 ZeroPadding2D False\n2 Conv2D False\n3 BatchNormalization False\n4 ReLU False\n5 DepthwiseConv2D False\n6 BatchNormalization False\n7 ReLU False\n8 Conv2D False\n9 BatchNormalization False\n10 ReLU False\n11 ZeroPadding2D False\n12 DepthwiseConv2D False\n13 BatchNormalization False\n14 ReLU False\n15 Conv2D False\n16 BatchNormalization False\n17 ReLU False\n18 DepthwiseConv2D False\n19 BatchNormalization False\n20 ReLU False\n21 Conv2D False\n22 BatchNormalization False\n23 ReLU False\n24 ZeroPadding2D False\n25 DepthwiseConv2D False\n26 BatchNormalization False\n27 ReLU False\n28 Conv2D False\n29 BatchNormalization False\n30 ReLU False\n31 DepthwiseConv2D False\n32 BatchNormalization False\n33 ReLU False\n34 Conv2D False\n35 BatchNormalization False\n36 ReLU False\n37 ZeroPadding2D False\n38 DepthwiseConv2D False\n39 BatchNormalization False\n40 ReLU False\n41 Conv2D False\n42 BatchNormalization False\n43 ReLU False\n44 DepthwiseConv2D False\n45 BatchNormalization False\n46 ReLU False\n47 Conv2D False\n48 BatchNormalization False\n49 ReLU False\n50 DepthwiseConv2D False\n51 BatchNormalization False\n52 ReLU False\n53 Conv2D False\n54 BatchNormalization False\n55 ReLU False\n56 DepthwiseConv2D False\n57 BatchNormalization False\n58 ReLU False\n59 Conv2D False\n60 BatchNormalization False\n61 ReLU False\n62 DepthwiseConv2D False\n63 BatchNormalization False\n64 ReLU False\n65 Conv2D False\n66 BatchNormalization False\n67 ReLU False\n68 DepthwiseConv2D False\n69 BatchNormalization False\n70 ReLU False\n71 Conv2D False\n72 BatchNormalization False\n73 ReLU False\n74 ZeroPadding2D False\n75 DepthwiseConv2D False\n76 BatchNormalization False\n77 ReLU False\n78 Conv2D False\n79 BatchNormalization False\n80 ReLU False\n81 DepthwiseConv2D False\n82 BatchNormalization False\n83 ReLU False\n84 Conv2D False\n85 BatchNormalization False\n86 ReLU False\n"
    }
   ],
   "source": [
    "from keras.applications import MobileNet\n",
    "\n",
    "#MobileNet a fost proiectat sa lucreze cu dimensiunea imaginilor de 224 x 224 pixel\n",
    "img_rows, img_cols = 224,224\n",
    "\n",
    "#Reîncărcați modelul MobileNet fără straturile superioare sau FC\n",
    "MobileNet = MobileNet(weights = 'imagenet', \n",
    "                      include_top= False,\n",
    "                      input_shape = (img_rows, img_cols, 3)   \n",
    "                         )\n",
    "            \n",
    "#Aici inghetam utimele 4 straturi\n",
    "#În mod implicit, straturile sunt instruibile ca True\n",
    "for layer in MobileNet.layers:\n",
    "    layer.trainable = False\n",
    "\n",
    "#printeaza straturile\n",
    "for (i, layer) in enumerate(MobileNet.layers):\n",
    "    print(str(i) + \" \"+ layer.__class__.__name__, layer.trainable)\n"
   ]
  },
  {
   "cell_type": "markdown",
   "metadata": {},
   "source": [
    "# Facem o functie care returneaza capul FC"
   ]
  },
  {
   "cell_type": "code",
   "execution_count": 6,
   "metadata": {},
   "outputs": [],
   "source": [
    "def addTopModelMobileNet(bottom_model, num_classes):\n",
    "    \"\" \"creează partea superioară sau capul modelului care va fi plasat pe partea de sus a straturilor de jos\" \"\"\n",
    "\n",
    "    top_model = bottom_model.output#lum toate straturile pana la FC (86 ReLU)\n",
    "    top_model = GlobalAveragePooling2D()(top_model)#de aici adugam straturile nostre prsonalizate \n",
    "    top_model = Dense(1024, activation='relu')(top_model)\n",
    "    top_model = Dense(1024, activation='relu')(top_model)\n",
    "    top_model = Dense(512, activation='relu')(top_model)\n",
    "    top_model = Dense(num_classes,activation='softmax')(top_model)\n",
    "    return top_model\n",
    "    #return full_model"
   ]
  },
  {
   "cell_type": "markdown",
   "metadata": {},
   "source": [
    "# Adaugam capul FC inapoi in MobileNet"
   ]
  },
  {
   "cell_type": "code",
   "execution_count": 7,
   "metadata": {},
   "outputs": [
    {
     "name": "stdout",
     "output_type": "stream",
     "text": "Model: \"model_1\"\n_________________________________________________________________\nLayer (type)                 Output Shape              Param #   \n=================================================================\ninput_2 (InputLayer)         (None, 224, 224, 3)       0         \n_________________________________________________________________\nconv1_pad (ZeroPadding2D)    (None, 225, 225, 3)       0         \n_________________________________________________________________\nconv1 (Conv2D)               (None, 112, 112, 32)      864       \n_________________________________________________________________\nconv1_bn (BatchNormalization (None, 112, 112, 32)      128       \n_________________________________________________________________\nconv1_relu (ReLU)            (None, 112, 112, 32)      0         \n_________________________________________________________________\nconv_dw_1 (DepthwiseConv2D)  (None, 112, 112, 32)      288       \n_________________________________________________________________\nconv_dw_1_bn (BatchNormaliza (None, 112, 112, 32)      128       \n_________________________________________________________________\nconv_dw_1_relu (ReLU)        (None, 112, 112, 32)      0         \n_________________________________________________________________\nconv_pw_1 (Conv2D)           (None, 112, 112, 64)      2048      \n_________________________________________________________________\nconv_pw_1_bn (BatchNormaliza (None, 112, 112, 64)      256       \n_________________________________________________________________\nconv_pw_1_relu (ReLU)        (None, 112, 112, 64)      0         \n_________________________________________________________________\nconv_pad_2 (ZeroPadding2D)   (None, 113, 113, 64)      0         \n_________________________________________________________________\nconv_dw_2 (DepthwiseConv2D)  (None, 56, 56, 64)        576       \n_________________________________________________________________\nconv_dw_2_bn (BatchNormaliza (None, 56, 56, 64)        256       \n_________________________________________________________________\nconv_dw_2_relu (ReLU)        (None, 56, 56, 64)        0         \n_________________________________________________________________\nconv_pw_2 (Conv2D)           (None, 56, 56, 128)       8192      \n_________________________________________________________________\nconv_pw_2_bn (BatchNormaliza (None, 56, 56, 128)       512       \n_________________________________________________________________\nconv_pw_2_relu (ReLU)        (None, 56, 56, 128)       0         \n_________________________________________________________________\nconv_dw_3 (DepthwiseConv2D)  (None, 56, 56, 128)       1152      \n_________________________________________________________________\nconv_dw_3_bn (BatchNormaliza (None, 56, 56, 128)       512       \n_________________________________________________________________\nconv_dw_3_relu (ReLU)        (None, 56, 56, 128)       0         \n_________________________________________________________________\nconv_pw_3 (Conv2D)           (None, 56, 56, 128)       16384     \n_________________________________________________________________\nconv_pw_3_bn (BatchNormaliza (None, 56, 56, 128)       512       \n_________________________________________________________________\nconv_pw_3_relu (ReLU)        (None, 56, 56, 128)       0         \n_________________________________________________________________\nconv_pad_4 (ZeroPadding2D)   (None, 57, 57, 128)       0         \n_________________________________________________________________\nconv_dw_4 (DepthwiseConv2D)  (None, 28, 28, 128)       1152      \n_________________________________________________________________\nconv_dw_4_bn (BatchNormaliza (None, 28, 28, 128)       512       \n_________________________________________________________________\nconv_dw_4_relu (ReLU)        (None, 28, 28, 128)       0         \n_________________________________________________________________\nconv_pw_4 (Conv2D)           (None, 28, 28, 256)       32768     \n_________________________________________________________________\nconv_pw_4_bn (BatchNormaliza (None, 28, 28, 256)       1024      \n_________________________________________________________________\nconv_pw_4_relu (ReLU)        (None, 28, 28, 256)       0         \n_________________________________________________________________\nconv_dw_5 (DepthwiseConv2D)  (None, 28, 28, 256)       2304      \n_________________________________________________________________\nconv_dw_5_bn (BatchNormaliza (None, 28, 28, 256)       1024      \n_________________________________________________________________\nconv_dw_5_relu (ReLU)        (None, 28, 28, 256)       0         \n_________________________________________________________________\nconv_pw_5 (Conv2D)           (None, 28, 28, 256)       65536     \n_________________________________________________________________\nconv_pw_5_bn (BatchNormaliza (None, 28, 28, 256)       1024      \n_________________________________________________________________\nconv_pw_5_relu (ReLU)        (None, 28, 28, 256)       0         \n_________________________________________________________________\nconv_pad_6 (ZeroPadding2D)   (None, 29, 29, 256)       0         \n_________________________________________________________________\nconv_dw_6 (DepthwiseConv2D)  (None, 14, 14, 256)       2304      \n_________________________________________________________________\nconv_dw_6_bn (BatchNormaliza (None, 14, 14, 256)       1024      \n_________________________________________________________________\nconv_dw_6_relu (ReLU)        (None, 14, 14, 256)       0         \n_________________________________________________________________\nconv_pw_6 (Conv2D)           (None, 14, 14, 512)       131072    \n_________________________________________________________________\nconv_pw_6_bn (BatchNormaliza (None, 14, 14, 512)       2048      \n_________________________________________________________________\nconv_pw_6_relu (ReLU)        (None, 14, 14, 512)       0         \n_________________________________________________________________\nconv_dw_7 (DepthwiseConv2D)  (None, 14, 14, 512)       4608      \n_________________________________________________________________\nconv_dw_7_bn (BatchNormaliza (None, 14, 14, 512)       2048      \n_________________________________________________________________\nconv_dw_7_relu (ReLU)        (None, 14, 14, 512)       0         \n_________________________________________________________________\nconv_pw_7 (Conv2D)           (None, 14, 14, 512)       262144    \n_________________________________________________________________\nconv_pw_7_bn (BatchNormaliza (None, 14, 14, 512)       2048      \n_________________________________________________________________\nconv_pw_7_relu (ReLU)        (None, 14, 14, 512)       0         \n_________________________________________________________________\nconv_dw_8 (DepthwiseConv2D)  (None, 14, 14, 512)       4608      \n_________________________________________________________________\nconv_dw_8_bn (BatchNormaliza (None, 14, 14, 512)       2048      \n_________________________________________________________________\nconv_dw_8_relu (ReLU)        (None, 14, 14, 512)       0         \n_________________________________________________________________\nconv_pw_8 (Conv2D)           (None, 14, 14, 512)       262144    \n_________________________________________________________________\nconv_pw_8_bn (BatchNormaliza (None, 14, 14, 512)       2048      \n_________________________________________________________________\nconv_pw_8_relu (ReLU)        (None, 14, 14, 512)       0         \n_________________________________________________________________\nconv_dw_9 (DepthwiseConv2D)  (None, 14, 14, 512)       4608      \n_________________________________________________________________\nconv_dw_9_bn (BatchNormaliza (None, 14, 14, 512)       2048      \n_________________________________________________________________\nconv_dw_9_relu (ReLU)        (None, 14, 14, 512)       0         \n_________________________________________________________________\nconv_pw_9 (Conv2D)           (None, 14, 14, 512)       262144    \n_________________________________________________________________\nconv_pw_9_bn (BatchNormaliza (None, 14, 14, 512)       2048      \n_________________________________________________________________\nconv_pw_9_relu (ReLU)        (None, 14, 14, 512)       0         \n_________________________________________________________________\nconv_dw_10 (DepthwiseConv2D) (None, 14, 14, 512)       4608      \n_________________________________________________________________\nconv_dw_10_bn (BatchNormaliz (None, 14, 14, 512)       2048      \n_________________________________________________________________\nconv_dw_10_relu (ReLU)       (None, 14, 14, 512)       0         \n_________________________________________________________________\nconv_pw_10 (Conv2D)          (None, 14, 14, 512)       262144    \n_________________________________________________________________\nconv_pw_10_bn (BatchNormaliz (None, 14, 14, 512)       2048      \n_________________________________________________________________\nconv_pw_10_relu (ReLU)       (None, 14, 14, 512)       0         \n_________________________________________________________________\nconv_dw_11 (DepthwiseConv2D) (None, 14, 14, 512)       4608      \n_________________________________________________________________\nconv_dw_11_bn (BatchNormaliz (None, 14, 14, 512)       2048      \n_________________________________________________________________\nconv_dw_11_relu (ReLU)       (None, 14, 14, 512)       0         \n_________________________________________________________________\nconv_pw_11 (Conv2D)          (None, 14, 14, 512)       262144    \n_________________________________________________________________\nconv_pw_11_bn (BatchNormaliz (None, 14, 14, 512)       2048      \n_________________________________________________________________\nconv_pw_11_relu (ReLU)       (None, 14, 14, 512)       0         \n_________________________________________________________________\nconv_pad_12 (ZeroPadding2D)  (None, 15, 15, 512)       0         \n_________________________________________________________________\nconv_dw_12 (DepthwiseConv2D) (None, 7, 7, 512)         4608      \n_________________________________________________________________\nconv_dw_12_bn (BatchNormaliz (None, 7, 7, 512)         2048      \n_________________________________________________________________\nconv_dw_12_relu (ReLU)       (None, 7, 7, 512)         0         \n_________________________________________________________________\nconv_pw_12 (Conv2D)          (None, 7, 7, 1024)        524288    \n_________________________________________________________________\nconv_pw_12_bn (BatchNormaliz (None, 7, 7, 1024)        4096      \n_________________________________________________________________\nconv_pw_12_relu (ReLU)       (None, 7, 7, 1024)        0         \n_________________________________________________________________\nconv_dw_13 (DepthwiseConv2D) (None, 7, 7, 1024)        9216      \n_________________________________________________________________\nconv_dw_13_bn (BatchNormaliz (None, 7, 7, 1024)        4096      \n_________________________________________________________________\nconv_dw_13_relu (ReLU)       (None, 7, 7, 1024)        0         \n_________________________________________________________________\nconv_pw_13 (Conv2D)          (None, 7, 7, 1024)        1048576   \n_________________________________________________________________\nconv_pw_13_bn (BatchNormaliz (None, 7, 7, 1024)        4096      \n_________________________________________________________________\nconv_pw_13_relu (ReLU)       (None, 7, 7, 1024)        0         \n_________________________________________________________________\nglobal_average_pooling2d_3 ( (None, 1024)              0         \n_________________________________________________________________\ndense_5 (Dense)              (None, 1024)              1049600   \n_________________________________________________________________\ndense_6 (Dense)              (None, 1024)              1049600   \n_________________________________________________________________\ndense_7 (Dense)              (None, 512)               524800    \n_________________________________________________________________\ndense_8 (Dense)              (None, 10)                5130      \n=================================================================\nTotal params: 5,857,994\nTrainable params: 2,629,130\nNon-trainable params: 3,228,864\n_________________________________________________________________\nNone\n"
    }
   ],
   "source": [
    "from keras.models import Sequential, Model\n",
    "from keras.layers import Dense, Dropout, Activation, Flatten, GlobalAveragePooling2D, Conv2D, MaxPooling2D, ZeroPadding2D\n",
    "from keras.layers.normalization import BatchNormalization\n",
    "\n",
    "#Seteaza class number la 3 (Tânăr, Mijloc, Bătrân)\n",
    "num_classes = 10\n",
    "\n",
    "FC_Head = addTopModelMobileNet(MobileNet, num_classes)\n",
    "\n",
    "model = Model(inputs = MobileNet.input, outputs= FC_Head)\n",
    "print(model.summary())"
   ]
  },
  {
   "cell_type": "markdown",
   "metadata": {},
   "source": [
    "# Incarcarea baza de date Monkey Breed"
   ]
  },
  {
   "cell_type": "code",
   "execution_count": 8,
   "metadata": {},
   "outputs": [
    {
     "name": "stdout",
     "output_type": "stream",
     "text": "Found 1098 images belonging to 10 classes.\nFound 272 images belonging to 10 classes.\n"
    }
   ],
   "source": [
    "from keras.preprocessing.image import ImageDataGenerator\n",
    "\n",
    "train_data_dir = \"c:/Users/Harum/Documents/15/monkey_breed/train\"\n",
    "validation_data_dir =\"c:/Users/Harum/Documents/15/monkey_breed/validation\"\n",
    "\n",
    "#utiliza data augmentation\n",
    "train_datagen = ImageDataGenerator(\n",
    "    rescale=1./255,\n",
    "    rotation_range=45,\n",
    "    width_shift_range=0.3,\n",
    "    height_shift_range=0.3,\n",
    "    horizontal_flip=True,\n",
    "    fill_mode='nearest'\n",
    ")\n",
    "\n",
    "validation_datagen = ImageDataGenerator(rescale=1./255)\n",
    "\n",
    "#seteaza batch size (de obicei pe majoritatea sistemelor de nivel mediu, vom folosi 16-32)\n",
    "batch_size = 32\n",
    "\n",
    "train_generator = train_datagen.flow_from_directory(\n",
    "    train_data_dir,\n",
    "    target_size=(img_rows, img_cols),\n",
    "    batch_size=batch_size,\n",
    "    class_mode='categorical'\n",
    ")\n",
    "\n",
    "validation_generator = validation_datagen.flow_from_directory(\n",
    "    validation_data_dir,\n",
    "    target_size=(img_rows, img_cols),\n",
    "    batch_size=batch_size,\n",
    "    class_mode='categorical'\n",
    ")"
   ]
  },
  {
   "cell_type": "markdown",
   "metadata": {},
   "source": [
    "# Instruieste modelul\n",
    "        -Folosim checkpointing and early stopping"
   ]
  },
  {
   "cell_type": "code",
   "execution_count": 12,
   "metadata": {},
   "outputs": [
    {
     "name": "stdout",
     "output_type": "stream",
     "text": "Epoch 1/10\n34/34 [==============================] - 31s 898ms/step - loss: 0.2346 - accuracy: 0.9231 - val_loss: 0.2513 - val_accuracy: 0.9258\n\nEpoch 00001: val_loss improved from inf to 0.25127, saving model to c:/Users/Harum/Documents/15/monkey_breed_mobileNet.h5\nEpoch 2/10\n34/34 [==============================] - 32s 941ms/step - loss: 0.2010 - accuracy: 0.9334 - val_loss: 0.1351 - val_accuracy: 0.9500\n\nEpoch 00002: val_loss improved from 0.25127 to 0.13506, saving model to c:/Users/Harum/Documents/15/monkey_breed_mobileNet.h5\nEpoch 3/10\n34/34 [==============================] - 31s 897ms/step - loss: 0.1951 - accuracy: 0.9268 - val_loss: 0.3944 - val_accuracy: 0.9500\n\nEpoch 00003: val_loss did not improve from 0.13506\nEpoch 4/10\n34/34 [==============================] - 30s 889ms/step - loss: 0.1843 - accuracy: 0.9311 - val_loss: 0.1528 - val_accuracy: 0.9458\n\nEpoch 00004: val_loss did not improve from 0.13506\nEpoch 5/10\n34/34 [==============================] - 30s 886ms/step - loss: 0.1805 - accuracy: 0.9400 - val_loss: 0.0626 - val_accuracy: 0.9375\n\nEpoch 00005: val_loss improved from 0.13506 to 0.06264, saving model to c:/Users/Harum/Documents/15/monkey_breed_mobileNet.h5\nEpoch 6/10\n34/34 [==============================] - 28s 834ms/step - loss: 0.1621 - accuracy: 0.9502 - val_loss: 0.0488 - val_accuracy: 0.9458\n\nEpoch 00006: val_loss improved from 0.06264 to 0.04883, saving model to c:/Users/Harum/Documents/15/monkey_breed_mobileNet.h5\nEpoch 7/10\n34/34 [==============================] - 29s 851ms/step - loss: 0.1433 - accuracy: 0.9522 - val_loss: 0.2453 - val_accuracy: 0.9333\n\nEpoch 00007: val_loss did not improve from 0.04883\nEpoch 8/10\n34/34 [==============================] - 30s 880ms/step - loss: 0.1410 - accuracy: 0.9476 - val_loss: 0.1243 - val_accuracy: 0.9458\n\nEpoch 00008: val_loss did not improve from 0.04883\nEpoch 9/10\n34/34 [==============================] - 28s 828ms/step - loss: 0.1416 - accuracy: 0.9454 - val_loss: 0.0217 - val_accuracy: 0.9542\n\nEpoch 00009: val_loss improved from 0.04883 to 0.02172, saving model to c:/Users/Harum/Documents/15/monkey_breed_mobileNet.h5\nEpoch 10/10\n34/34 [==============================] - 31s 900ms/step - loss: 0.1266 - accuracy: 0.9484 - val_loss: 0.1080 - val_accuracy: 0.9453\n\nEpoch 00010: val_loss did not improve from 0.02172\n"
    }
   ],
   "source": [
    "from keras.optimizers import RMSprop\n",
    "from keras.callbacks import ModelCheckpoint, EarlyStopping\n",
    "\n",
    "checkpoint = ModelCheckpoint(\"c:/Users/Harum/Documents/15/monkey_breed_mobileNet.h5\",\n",
    "                           monitor='val_loss',\n",
    "                           mode='min',\n",
    "                           save_best_only= True,\n",
    "                           verbose=1\n",
    ")\n",
    "\n",
    "earlystop = EarlyStopping(monitor='val_loss',\n",
    "                          min_delta=0,\n",
    "                          patience=3,#daca dupa n-1 adica 2 epochs consecutiv nu sa imbunatati nimic acesta model se va opri adica dupa terminarea celui deal treile epoch se va opri\n",
    "                          verbose=1,\n",
    "                          restore_best_weights= True\n",
    ")\n",
    "\n",
    "#punem call backs intro lista a callback\n",
    "callbacks = [earlystop, checkpoint]\n",
    "\n",
    "#folosim o rata de invatare foarte mica\n",
    "model.compile(RMSprop(0.0001),'categorical_crossentropy', ['accuracy'])\n",
    "\n",
    "#Introduce numarul de instruire si validare \n",
    "nb_train_samples = 1098\n",
    "nb_validation_samples = 272\n",
    "\n",
    "#parametri de instruire\n",
    "epochs =10\n",
    "batch_size= 32\n",
    "\n",
    "#instruire model\n",
    "history = model.fit_generator(\n",
    "    train_generator,\n",
    "    steps_per_epoch= nb_train_samples // batch_size,\n",
    "    epochs=epochs,\n",
    "    callbacks=callbacks,\n",
    "    validation_data= validation_generator,\n",
    "    validation_steps= nb_validation_samples // batch_size\n",
    ")"
   ]
  },
  {
   "cell_type": "markdown",
   "metadata": {},
   "source": [
    "# Incarca clasificatorul"
   ]
  },
  {
   "cell_type": "code",
   "execution_count": 13,
   "metadata": {},
   "outputs": [],
   "source": [
    "from keras.models import load_model\n",
    "\n",
    "classifier = load_model(\"c:/Users/Harum/Documents/15/monkey_breed_mobileNet.h5\")"
   ]
  },
  {
   "cell_type": "code",
   "execution_count": 14,
   "metadata": {},
   "outputs": [
    {
     "name": "stdout",
     "output_type": "stream",
     "text": "Class - silvery_marmoset\nClass - silvery_marmoset\nClass - black_headed_night_monkey\nClass - white_headed_capuchin\nClass - mantled_howler \nClass - bald_uakari\nClass - nilgiri_langur\nClass - black_headed_night_monkey\nClass - black_headed_night_monkey\nClass - white_headed_capuchin\n"
    }
   ],
   "source": [
    "import os\n",
    "import cv2\n",
    "import numpy as np\n",
    "from os import listdir\n",
    "from os.path import isfile, join\n",
    "\n",
    "monkey_breeds_dict = {\"[0]\": \"mantled_howler \", \n",
    "                      \"[1]\": \"patas_monkey\",\n",
    "                      \"[2]\": \"bald_uakari\",\n",
    "                      \"[3]\": \"japanese_macaque\",\n",
    "                      \"[4]\": \"pygmy_marmoset \",\n",
    "                      \"[5]\": \"white_headed_capuchin\",\n",
    "                      \"[6]\": \"silvery_marmoset\",\n",
    "                      \"[7]\": \"common_squirrel_monkey\",\n",
    "                      \"[8]\": \"black_headed_night_monkey\",\n",
    "                      \"[9]\": \"nilgiri_langur\"}\n",
    "\n",
    "monkey_breeds_dict_n = {\"n0\": \"mantled_howler \", \n",
    "                      \"n1\": \"patas_monkey\",\n",
    "                      \"n2\": \"bald_uakari\",\n",
    "                      \"n3\": \"japanese_macaque\",\n",
    "                      \"n4\": \"pygmy_marmoset \",\n",
    "                      \"n5\": \"white_headed_capuchin\",\n",
    "                      \"n6\": \"silvery_marmoset\",\n",
    "                      \"n7\": \"common_squirrel_monkey\",\n",
    "                      \"n8\": \"black_headed_night_monkey\",\n",
    "                      \"n9\": \"nilgiri_langur\"}\n",
    "\n",
    "def draw_test(name, pred, im):\n",
    "    monkey = monkey_breeds_dict[str(pred)]\n",
    "    BLACK = [0, 0, 0]\n",
    "    expanded_image = cv2.copyMakeBorder(im, 80,0,0,100, cv2.BORDER_CONSTANT, value=BLACK)\n",
    "    cv2.putText(expanded_image, monkey, (20,60), cv2.FONT_HERSHEY_SIMPLEX, 1, (0, 0, 255), 2)\n",
    "    cv2.imshow(name, expanded_image)\n",
    "\n",
    "def getRandomImage(path):\n",
    "    \"\"\"funcția încarcă imagini aleatoare dintr-un folder aleatoriu în calea noastră de testare\"\"\"\n",
    "    folders = list(filter(lambda x: os.path.isdir(os.path.join(path, x)), os.listdir(path)))\n",
    "    random_directory = np.random.randint(0, len(folders))\n",
    "    path_class = folders[random_directory]\n",
    "    print(\"Class - \"+ monkey_breeds_dict_n[str(path_class)])\n",
    "    file_path = path +path_class\n",
    "    file_names = [ f for f in listdir(file_path) if isfile(join(file_path, f))]\n",
    "    random_file_index = np.random.randint(0, len(file_names))\n",
    "    image_name = file_names[random_file_index]\n",
    "    return cv2.imread(file_path+ \"/\"+ image_name)\n",
    "\n",
    "for i in range(0,10):\n",
    "    input_im = getRandomImage(\"c:/Users/Harum/Documents/15/monkey_breed/validation/\")\n",
    "    input_original = input_im.copy()\n",
    "    input_original = cv2.resize(input_original, None, fx=0.5, fy=0.5, interpolation=cv2.INTER_LINEAR)\n",
    "\n",
    "    input_im = cv2.resize(input_im, (224,224), interpolation= cv2.INTER_LINEAR)\n",
    "    input_im =input_im / 255.\n",
    "    input_im = input_im.reshape(1, 224,224,3)\n",
    "\n",
    "    #Predictia\n",
    "    res = np.argmax(classifier.predict(input_im, 1, verbose=0), axis=1)\n",
    "\n",
    "    #Arata imaginea cu clasa prezisa\n",
    "    draw_test(\"Prediction\", res, input_original)\n",
    "    cv2.waitKey(0)\n",
    "\n",
    "cv2.destroyAllWindows()"
   ]
  }
 ]
}